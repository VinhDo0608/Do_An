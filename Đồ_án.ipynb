{
  "cells": [
    {
      "cell_type": "markdown",
      "metadata": {
        "id": "view-in-github",
        "colab_type": "text"
      },
      "source": [
        "<a href=\"https://colab.research.google.com/github/VinhDo0608/Do_An/blob/main/%C4%90%E1%BB%93_%C3%A1n.ipynb\" target=\"_parent\"><img src=\"https://colab.research.google.com/assets/colab-badge.svg\" alt=\"Open In Colab\"/></a>"
      ]
    },
    {
      "cell_type": "code",
      "source": [
        "from google.colab import drive\n",
        "drive.mount('/content/drive')"
      ],
      "metadata": {
        "colab": {
          "base_uri": "https://localhost:8080/"
        },
        "id": "hhrfKhyf_VOc",
        "outputId": "8ed54f33-1120-40df-c64c-7b8a3028a2d2"
      },
      "execution_count": 1,
      "outputs": [
        {
          "output_type": "stream",
          "name": "stdout",
          "text": [
            "Mounted at /content/drive\n"
          ]
        }
      ]
    },
    {
      "cell_type": "code",
      "source": [
        "from keras.applications import vgg16\n",
        "from keras.models import Sequential\n",
        "from keras.layers import Flatten, Dense, BatchNormalization, Dropout\n",
        "from google.colab import files\n",
        "import ipywidgets as widgets\n",
        "from IPython.display import display, clear_output\n",
        "from PIL import Image\n",
        "import tensorflow as tf\n",
        "import numpy as np\n",
        "import io\n",
        "from google.colab.patches import cv2_imshow\n",
        "import cv2\n",
        "import matplotlib.pyplot as plt\n",
        "import os\n",
        "from keras.preprocessing import image\n",
        "import keras\n",
        "from keras.callbacks import ModelCheckpoint\n",
        "import random\n",
        "from keras.callbacks import ModelCheckpoint\n",
        "import shutil\n",
        "from keras.preprocessing.image import ImageDataGenerator"
      ],
      "metadata": {
        "id": "UEVvW51x_C4W"
      },
      "execution_count": 14,
      "outputs": []
    },
    {
      "cell_type": "code",
      "source": [
        "def build_custom_model(input_shape=(128, 128, 3), num_classes=7):\n",
        "    # Tạo mô hình VGG16 đã được đào tạo trên ImageNet\n",
        "    vgg = vgg16.VGG16(weights='imagenet',\n",
        "                      include_top=False,\n",
        "                      input_shape=input_shape)\n",
        "\n",
        "    # Đóng băng trọng số của các tầng VGG16 (tầng đã được đào tạo)\n",
        "    for layer in vgg.layers:\n",
        "        layer.trainable = False\n",
        "\n",
        "    # Xây dựng mô hình dạng tuần tự\n",
        "    model = Sequential()\n",
        "\n",
        "    # Thêm mô hình VGG16 đã được đào tạo vào mô hình tuần tự\n",
        "    model.add(vgg)\n",
        "\n",
        "    # Làm phẳng đầu ra của VGG16 trước khi kết nối vào các tầng fully connected (FC)\n",
        "    model.add(Flatten())\n",
        "\n",
        "    # Các tầng FC để thực hiện phân loại\n",
        "    model.add(Dense(256))\n",
        "    model.add(BatchNormalization())\n",
        "    model.add(Dropout(0.2))\n",
        "\n",
        "    model.add(Dense(256))\n",
        "    model.add(BatchNormalization())\n",
        "    model.add(Dropout(0.2))\n",
        "\n",
        "    model.add(Dense(128))\n",
        "    model.add(BatchNormalization())\n",
        "    model.add(Dropout(0.2))\n",
        "\n",
        "    # Tầng đầu ra với số lượng đơn vị tương ứng với số lớp và kích hoạt softmax\n",
        "    model.add(Dense(num_classes, activation='softmax'))\n",
        "\n",
        "    # Hiển thị tóm tắt của mô hình\n",
        "    model.summary()\n",
        "\n",
        "    return model\n",
        "\n",
        "model = build_custom_model()"
      ],
      "metadata": {
        "colab": {
          "base_uri": "https://localhost:8080/"
        },
        "id": "4c6uXfHXA-zu",
        "outputId": "cea1841a-c5d9-4b8b-8d67-e1e8d1d1ebaf"
      },
      "execution_count": 10,
      "outputs": [
        {
          "output_type": "stream",
          "name": "stdout",
          "text": [
            "Model: \"sequential_1\"\n",
            "_________________________________________________________________\n",
            " Layer (type)                Output Shape              Param #   \n",
            "=================================================================\n",
            " vgg16 (Functional)          (None, 4, 4, 512)         14714688  \n",
            "                                                                 \n",
            " flatten_1 (Flatten)         (None, 8192)              0         \n",
            "                                                                 \n",
            " dense_4 (Dense)             (None, 256)               2097408   \n",
            "                                                                 \n",
            " batch_normalization_3 (Bat  (None, 256)               1024      \n",
            " chNormalization)                                                \n",
            "                                                                 \n",
            " dropout_3 (Dropout)         (None, 256)               0         \n",
            "                                                                 \n",
            " dense_5 (Dense)             (None, 256)               65792     \n",
            "                                                                 \n",
            " batch_normalization_4 (Bat  (None, 256)               1024      \n",
            " chNormalization)                                                \n",
            "                                                                 \n",
            " dropout_4 (Dropout)         (None, 256)               0         \n",
            "                                                                 \n",
            " dense_6 (Dense)             (None, 128)               32896     \n",
            "                                                                 \n",
            " batch_normalization_5 (Bat  (None, 128)               512       \n",
            " chNormalization)                                                \n",
            "                                                                 \n",
            " dropout_5 (Dropout)         (None, 128)               0         \n",
            "                                                                 \n",
            " dense_7 (Dense)             (None, 7)                 903       \n",
            "                                                                 \n",
            "=================================================================\n",
            "Total params: 16914247 (64.52 MB)\n",
            "Trainable params: 2198279 (8.39 MB)\n",
            "Non-trainable params: 14715968 (56.14 MB)\n",
            "_________________________________________________________________\n"
          ]
        }
      ]
    },
    {
      "cell_type": "code",
      "source": [
        "for dirname, _, filenames in os.walk('/content/drive/MyDrive/Colab Notebooks/DATA/Cucumber_diesease'):\n",
        "    for filename in filenames:\n",
        "        # In ra đường dẫn đầy đủ của từng tệp\n",
        "        print(os.path.join(dirname, filename))"
      ],
      "metadata": {
        "id": "D1SSOZvFEkso"
      },
      "execution_count": null,
      "outputs": []
    },
    {
      "cell_type": "code",
      "source": [
        "# Đường dẫn tới thư mục chứa dữ liệu ảnh\n",
        "data_dir = '/content/drive/MyDrive/Colab Notebooks/DATA/Cucumber_diesease'\n",
        "\n",
        "# Số lượng ảnh trong mỗi lô (batch) sử dụng trong quá trình đào tạo\n",
        "batch_size = 64\n",
        "\n",
        "# Chiều cao của ảnh (ảnh sẽ được chuyển về kích thước này)\n",
        "img_height = 128\n",
        "\n",
        "# Chiều rộng của ảnh (ảnh sẽ được chuyển về kích thước này)\n",
        "img_width = 128\n"
      ],
      "metadata": {
        "id": "F6jWSY3T5v0q"
      },
      "execution_count": 7,
      "outputs": []
    },
    {
      "cell_type": "code",
      "source": [
        "train_ds = tf.keras.utils.image_dataset_from_directory(\n",
        "    data_dir,\n",
        "    validation_split=0.2,\n",
        "    subset=\"training\",\n",
        "    seed=123,\n",
        "    image_size=(img_height, img_width),\n",
        "    batch_size=batch_size)"
      ],
      "metadata": {
        "colab": {
          "base_uri": "https://localhost:8080/"
        },
        "id": "VnUXW6z04hY5",
        "outputId": "4ba44b6e-b801-400e-ba09-470bdda61143"
      },
      "execution_count": 8,
      "outputs": [
        {
          "output_type": "stream",
          "name": "stdout",
          "text": [
            "Found 15982 files belonging to 7 classes.\n",
            "Using 12786 files for training.\n"
          ]
        }
      ]
    },
    {
      "cell_type": "code",
      "source": [
        "val_ds = tf.keras.utils.image_dataset_from_directory(\n",
        "    data_dir,\n",
        "    validation_split=0.2,\n",
        "    subset=\"validation\",\n",
        "    seed=123,\n",
        "    image_size=(img_height, img_width),\n",
        "    batch_size=batch_size)"
      ],
      "metadata": {
        "id": "0vSvY_x958k1"
      },
      "execution_count": null,
      "outputs": []
    },
    {
      "cell_type": "code",
      "source": [
        "class_names = train_ds.class_names\n",
        "print(\"Tên các loại bệnh\")\n",
        "print(class_names)"
      ],
      "metadata": {
        "id": "ZQtSYxUu6taP"
      },
      "execution_count": null,
      "outputs": []
    },
    {
      "cell_type": "code",
      "source": [
        "def display_images_from_folders(main_folder_path, num_rows=4, num_cols=2):\n",
        "    subfolders = [f.path for f in os.scandir(main_folder_path) if f.is_dir()]\n",
        "    fig, axes = plt.subplots(num_rows, num_cols, figsize=(12, 18))\n",
        "\n",
        "    for i, subfolder in enumerate(subfolders):\n",
        "        image_files = [f.path for f in os.scandir(subfolder) if f.is_file() and f.name.endswith((\".jpg\", \".jpeg\", \".png\"))]\n",
        "\n",
        "        if image_files:\n",
        "            first_image_path = image_files[0]\n",
        "            image = cv2.imread(first_image_path)\n",
        "            image_resized = cv2.resize(image, (128, 128))\n",
        "\n",
        "            axes[i // num_cols, i % num_cols].imshow(cv2.cvtColor(image_resized, cv2.COLOR_BGR2RGB))\n",
        "            axes[i // num_cols, i % num_cols].set_title(os.path.basename(subfolder))\n",
        "            axes[i // num_cols, i % num_cols].axis('off')\n",
        "\n",
        "    plt.show()\n",
        "\n",
        "# Sử dụng hàm để hiển thị các ảnh từ thư mục chính\n",
        "main_folder_path = \"/content/drive/MyDrive/Colab Notebooks/DATA/Cucumber_diesease\"\n",
        "display_images_from_folders(main_folder_path)"
      ],
      "metadata": {
        "id": "rIpuFEfn65SU"
      },
      "execution_count": null,
      "outputs": []
    },
    {
      "cell_type": "code",
      "source": [
        "checkpoint = ModelCheckpoint(\"/content/drive/MyDrive/Training/model_weights_new_t4.h5\",\n",
        "                             monitor=\"val_loss\",\n",
        "                             mode=\"min\",\n",
        "                             save_best_only = True,\n",
        "                             verbose=1)"
      ],
      "metadata": {
        "id": "_ppVrYRy7Wv3"
      },
      "execution_count": null,
      "outputs": []
    },
    {
      "cell_type": "code",
      "source": [
        "model.compile(optimizer='adam',\n",
        "              loss = tf.keras.losses.SparseCategoricalCrossentropy(from_logits=True),\n",
        "              metrics=['accuracy'])"
      ],
      "metadata": {
        "id": "fDZRTYPM7Xar"
      },
      "execution_count": null,
      "outputs": []
    },
    {
      "cell_type": "code",
      "source": [
        "epochs = 10\n",
        "history = model.fit(\n",
        "    train_ds,                # Tập dữ liệu đào tạo\n",
        "    steps_per_epoch=20,       # Số lần lặp lại mỗi epoch\n",
        "    verbose=1,               # Mức độ in thông tin\n",
        "    epochs=epochs,           # Số lượng epoch (vòng lặp qua toàn bộ tập dữ liệu đào tạo)\n",
        "    callbacks=checkpoint,    # Danh sách các callback (ở đây là \"checkpoint\")\n",
        "    validation_data=val_ds   # Tập dữ liệu validation\n",
        ")"
      ],
      "metadata": {
        "id": "JXrUvYNb7gkC"
      },
      "execution_count": null,
      "outputs": []
    },
    {
      "cell_type": "code",
      "source": [
        "def plot_training_history(history):\n",
        "    # Lấy giá trị độ chính xác trên tập huấn luyện và tập kiểm tra từ lịch sử\n",
        "    training_accuracy = history.history['accuracy']\n",
        "    validation_accuracy = history.history['val_accuracy']\n",
        "\n",
        "    # Lấy số epochs\n",
        "    epochs = range(1, len(training_accuracy) + 1)\n",
        "\n",
        "    # Vẽ đồ thị\n",
        "    plt.figure(figsize=(10, 6))\n",
        "    plt.plot(epochs, training_accuracy, label='Training Accuracy')\n",
        "    plt.plot(epochs, validation_accuracy, label='Validation Accuracy')\n",
        "    plt.title('Training and Validation Accuracy Over Epochs')\n",
        "    plt.xlabel('Epochs')\n",
        "    plt.ylabel('Accuracy')\n",
        "    plt.legend()\n",
        "    plt.show()\n",
        "\n",
        "# Giả sử \"history\" là biến chứa lịch sử huấn luyện từ model.fit\n",
        "# Chẳng hạn: history = model.fit(train_data, epochs=10, validation_data=validation_data)\n",
        "plot_training_history(history)"
      ],
      "metadata": {
        "id": "ZAFGKpxb7vXA"
      },
      "execution_count": null,
      "outputs": []
    },
    {
      "cell_type": "code",
      "source": [
        "def plot_training_history(history):\n",
        "    # Lấy giá trị độ chính xác trên tập huấn luyện và tập kiểm tra từ lịch sử\n",
        "    training_accuracy = history.history['loss']\n",
        "    validation_accuracy = history.history['val_loss']\n",
        "\n",
        "    # Lấy số epochs\n",
        "    epochs = range(1, len(training_accuracy) + 1)\n",
        "\n",
        "    # Vẽ đồ thị\n",
        "    plt.figure(figsize=(10, 6))\n",
        "    plt.plot(epochs, training_accuracy, label='loss')\n",
        "    plt.plot(epochs, validation_accuracy, label='val_loss')\n",
        "    plt.title('Loss and Val loss Over Epochs')\n",
        "    plt.xlabel('Epochs')\n",
        "    plt.ylabel('Loss')\n",
        "    plt.legend()\n",
        "    plt.show()\n",
        "\n",
        "# Giả sử \"history\" là biến chứa lịch sử huấn luyện từ model.fit\n",
        "# Chẳng hạn: history = model.fit(train_data, epochs=10, validation_data=validation_data)\n",
        "plot_training_history(history)"
      ],
      "metadata": {
        "id": "7uZs4e1J7wjn"
      },
      "execution_count": null,
      "outputs": []
    },
    {
      "cell_type": "code",
      "source": [
        "def create_test_set(data_dir, test_dir, test_ratio=0.01):\n",
        "    # Lấy danh sách tên các thư mục trong data_dir\n",
        "    folders = os.listdir(data_dir)\n",
        "\n",
        "    # Tạo thư mục test set nếu chưa tồn tại\n",
        "    if not os.path.exists(test_dir):\n",
        "        os.makedirs(test_dir)\n",
        "\n",
        "    # Lặp qua từng thư mục\n",
        "    for folder in folders:\n",
        "        folder_path = os.path.join(data_dir, folder)\n",
        "\n",
        "        # Kiểm tra xem có phải là thư mục không\n",
        "        if os.path.isdir(folder_path):\n",
        "            # Lấy danh sách các tệp trong thư mục\n",
        "            files = os.listdir(folder_path)\n",
        "\n",
        "            # Số lượng tệp để chuyển sang test set\n",
        "            num_files_to_move = int(len(files) * test_ratio)\n",
        "\n",
        "            # Lựa chọn ngẫu nhiên các tệp\n",
        "            files_to_move = random.sample(files, num_files_to_move)\n",
        "\n",
        "            # Tạo đường dẫn đến thư mục test set cho thư mục hiện tại\n",
        "            test_folder_path = os.path.join(test_dir, folder)\n",
        "\n",
        "            # Tạo thư mục test set cho thư mục hiện tại nếu chưa tồn tại\n",
        "            if not os.path.exists(test_folder_path):\n",
        "                os.makedirs(test_folder_path)\n",
        "\n",
        "            # Di chuyển các tệp vào thư mục test set\n",
        "            for file in files_to_move:\n",
        "                file_path = os.path.join(folder_path, file)\n",
        "                dest_path = os.path.join(test_folder_path, file)\n",
        "                shutil.move(file_path, dest_path)\n",
        "    print(\"Test set created successfully.\")\n",
        "\n",
        "# Sử dụng hàm để tạo tập test\n",
        "data_dir = \"/content/drive/MyDrive/Colab Notebooks/DATA/Cucumber_diesease\"\n",
        "test_dir = \"/content/drive/MyDrive/Colab Notebooks/DATA/test_set\"\n",
        "create_test_set(data_dir, test_dir, test_ratio=0.01)"
      ],
      "metadata": {
        "id": "TtCObJqZ7y0C"
      },
      "execution_count": null,
      "outputs": []
    },
    {
      "cell_type": "code",
      "source": [
        "def count_images_in_folders(main_folder):\n",
        "    # Khởi tạo biến để đếm tổng số lượng ảnh\n",
        "    total_images = 0\n",
        "\n",
        "    # Tên các thư mục con (assumed to be class labels)\n",
        "    class_folders = os.listdir(main_folder)\n",
        "\n",
        "    # Duyệt qua từng thư mục con và tính tổng số lượng ảnh\n",
        "    for class_folder in class_folders:\n",
        "        class_path = os.path.join(main_folder, class_folder)\n",
        "\n",
        "        # Đảm bảo thư mục là một thư mục và không phải là tệp tin\n",
        "        if os.path.isdir(class_path):\n",
        "            # List tất cả các tệp tin hình ảnh trong thư mục con\n",
        "            image_files = [f for f in os.listdir(class_path) if f.lower().endswith(('.png', '.jpg', '.jpeg', '.gif', '.bmp', '.tiff'))]\n",
        "\n",
        "            # Tính tổng số lượng ảnh trong thư mục con và cộng vào tổng chung\n",
        "            total_images += len(image_files)\n",
        "\n",
        "    # Đưa ra tổng số lượng ảnh\n",
        "    print(f\"Tổng số lượng ảnh: {total_images}\")\n",
        "\n",
        "# Sử dụng hàm để in ra tổng số lượng ảnh\n",
        "main_folder = \"/content/drive/MyDrive/Colab Notebooks/DATA/test_set\"\n",
        "count_images_in_folders(main_folder)"
      ],
      "metadata": {
        "id": "usRiyt1E9hWP"
      },
      "execution_count": null,
      "outputs": []
    },
    {
      "cell_type": "code",
      "source": [
        "def evaluate_model(model_path, test_folder):\n",
        "    # Load the trained model\n",
        "    model = keras.models.load_model(model_path)\n",
        "\n",
        "    # Tên các thư mục con (giả sử là nhãn lớp)\n",
        "    class_folders = os.listdir(test_folder)\n",
        "\n",
        "    # Khởi tạo biến đếm số dự đoán đúng\n",
        "    correct_predictions = 0\n",
        "\n",
        "    # Khởi tạo biến để đếm tổng số lượng ảnh\n",
        "    total_images = 0\n",
        "\n",
        "    # Duyệt qua từng thư mục lớp\n",
        "    for class_folder in class_folders:\n",
        "        class_path = os.path.join(test_folder, class_folder)\n",
        "\n",
        "        # Đảm bảo thư mục là một thư mục và không phải là tệp tin\n",
        "        if os.path.isdir(class_path):\n",
        "            # List tất cả các tệp tin hình ảnh trong thư mục lớp\n",
        "            image_files = [f for f in os.listdir(class_path) if f.lower().endswith(('.png', '.jpg', '.jpeg', '.gif', '.bmp', '.tiff'))]\n",
        "\n",
        "            # Tính tổng số lượng ảnh trong thư mục lớp và cộng vào tổng chung\n",
        "            total_images += len(image_files)\n",
        "\n",
        "            # Lặp lại từng hình ảnh trong thư mục lớp\n",
        "            for image_file in image_files:\n",
        "                img_path = os.path.join(class_path, image_file)\n",
        "                # Tải và xử lý trước hình ảnh để dự đoán\n",
        "                img = image.load_img(img_path, target_size=(128, 128))\n",
        "                img_array = image.img_to_array(img)\n",
        "                img_array = np.expand_dims(img_array, axis=0)\n",
        "\n",
        "                # Dự đoán nhãn cho hình ảnh\n",
        "                y_pred = model.predict(img_array)\n",
        "                predicted_class = np.argmax(y_pred)\n",
        "                accuracy = y_pred[0][predicted_class]\n",
        "\n",
        "                # Nhận tên lớp (thay thế bằng tên lớp thực tế của bạn)\n",
        "                class_names = ['Anthracnose', 'Bacterial Wilt', 'Belly Rot', 'Downy Mildew', 'Fresh Leaf', 'Good', 'Gummy Stem Blight']\n",
        "\n",
        "                # Kiểm tra xem dự đoán có đúng không\n",
        "                true_class = class_folders.index(class_folder)\n",
        "                if predicted_class == true_class:\n",
        "                    correct_predictions += 1\n",
        "\n",
        "                # Hiển thị hình ảnh và thông tin dự đoán\n",
        "                plt.figure(figsize=(6, 6))\n",
        "                plt.imshow(img)\n",
        "                plt.title(f\"True label: {class_names[true_class]}\\nPredicted: {class_names[predicted_class]}\\nAccuracy: {accuracy:.2%}\\nFile: {image_file}\")\n",
        "                plt.axis('off')\n",
        "                plt.show()\n",
        "\n",
        "    # Tính tỷ lệ dự đoán đúng trên tập test\n",
        "    total_accuracy = (correct_predictions / total_images) * 100\n",
        "    print(f\"Tỉ lệ chính xác của tập test: {total_accuracy:.2f}%\")\n",
        "\n",
        "# Sử dụng hàm để đánh giá mô hình trên tập test\n",
        "model_path = \"/content/drive/MyDrive/Training/model_weights_new_t4.h5\"\n",
        "test_folder = \"/content/drive/MyDrive/Colab Notebooks/DATA/test_set\"\n",
        "evaluate_model(model_path, test_folder)"
      ],
      "metadata": {
        "id": "duslN9Aj9h2u"
      },
      "execution_count": null,
      "outputs": []
    },
    {
      "cell_type": "code",
      "source": [
        "# Load model\n",
        "model = keras.models.load_model(\"/content/drive/MyDrive/Training/model_weights_new_t4.h5\")  # Thay thế đường dẫn đến mô hình của bạn\n",
        "\n",
        "# Load and preprocess the image for prediction\n",
        "img_path = '/content/drive/MyDrive/Colab Notebooks/DATA/Cucumber_diesease/Belly Rot/Belly Rot (3)_270.jpg'\n",
        "img = image.load_img(img_path, target_size=(128, 128))\n",
        "img_array = image.img_to_array(img)\n",
        "img_array = np.expand_dims(img_array, axis=0)  # Reshape to (1, 128, 128, 3) for a single image\n",
        "\n",
        "y_pred = model.predict(img_array)\n",
        "predicted_class = np.argmax(y_pred)\n",
        "accuracy = y_pred[0][predicted_class]\n",
        "\n",
        "class_names = ['Anthracnose', 'Bacterial Wilt', 'Belly Rot', 'Downy Mildew', 'Fresh Leaf', 'Gummy Stem Blight','Good']\n",
        "# Hiển thị độ chính xác\n",
        "print(f\"Predicted class: {class_names[predicted_class]}\")\n",
        "print(f\"Accuracy: {accuracy:.2%}\")"
      ],
      "metadata": {
        "id": "_lXqn3wh-wSY"
      },
      "execution_count": null,
      "outputs": []
    },
    {
      "cell_type": "code",
      "source": [
        "# Đường dẫn đến thư mục chứa dữ liệu huấn luyện\n",
        "train_dir = \"/content/drive/MyDrive/Colab Notebooks/DATA/Cucumber_diesease\"\n",
        "\n",
        "# Đường dẫn đến thư mục chứa dữ liệu kiểm thử\n",
        "test_dir = \"/content/drive/MyDrive/Colab Notebooks/DATA/test_set\"\n",
        "\n",
        "# Kích thước ảnh mà mô hình mong đợi\n",
        "target_size = (128, 128)\n",
        "\n",
        "# Số lượng ảnh được đọc mỗi lần từ thư mục\n",
        "batch_size = 32\n",
        "\n",
        "# Tạo generator cho dữ liệu huấn luyện\n",
        "train_datagen = ImageDataGenerator(rescale=1./255,\n",
        "                                   shear_range=0.2,\n",
        "                                   zoom_range=0.2,\n",
        "                                   horizontal_flip=True)\n",
        "\n",
        "train_generator = train_datagen.flow_from_directory(\n",
        "    train_dir,\n",
        "    target_size=target_size,\n",
        "    batch_size=batch_size,\n",
        "    class_mode='categorical',  # Chọn 'binary' nếu chỉ có hai lớp\n",
        "    shuffle=True\n",
        ")\n",
        "\n",
        "# Tạo generator cho dữ liệu kiểm thử\n",
        "test_datagen = ImageDataGenerator(rescale=1./255)\n",
        "\n",
        "test_generator = test_datagen.flow_from_directory(\n",
        "    test_dir,\n",
        "    target_size=target_size,\n",
        "    batch_size=batch_size,\n",
        "    class_mode='categorical',  # Chọn 'binary' nếu chỉ có hai lớp\n",
        "    shuffle=False\n",
        ")"
      ],
      "metadata": {
        "id": "WfvOclO4-29e"
      },
      "execution_count": null,
      "outputs": []
    },
    {
      "cell_type": "code",
      "source": [
        "# Load pre-trained model (make sure you have a pre-trained model)\n",
        "model = tf.keras.models.load_model('/content/drive/MyDrive/Training/model_weights_new_t4.h5')\n",
        "\n",
        "class PlantDiseaseDetectorApp:\n",
        "    def __init__(self):\n",
        "        self.label = widgets.Label(\"Chọn ảnh cây cần kiểm tra:\")\n",
        "        display(self.label)\n",
        "\n",
        "        self.btn_upload = widgets.FileUpload(description=\"Upload Image\", style={'button_color': 'lightblue'})\n",
        "        self.btn_upload.observe(self.on_upload_change, names=['value'])\n",
        "        display(self.btn_upload)\n",
        "\n",
        "        self.image_output = widgets.Output()\n",
        "        display(self.image_output)\n",
        "\n",
        "        self.btn_clear = widgets.Button(description=\"Xóa kết quả\", style={'button_color': 'salmon'})\n",
        "        self.btn_clear.on_click(self.clear_result)\n",
        "        display(self.btn_clear)\n",
        "\n",
        "        self.result_label = widgets.Label(\"\")\n",
        "        display(self.result_label)\n",
        "\n",
        "    def on_upload_change(self, change):\n",
        "        for name, file_info in self.btn_upload.value.items():\n",
        "            content = file_info['content']\n",
        "            self.display_image(content)\n",
        "            self.predict_disease(content, name)\n",
        "\n",
        "    def display_image(self, content):\n",
        "        image = Image.open(io.BytesIO(content))\n",
        "        image = image.resize((400, 400))\n",
        "        display(image)\n",
        "\n",
        "    def predict_disease(self, content, file_name):\n",
        "        image_path = os.path.join(\"/content\", file_name)\n",
        "        with open(image_path, \"wb\") as f:\n",
        "            f.write(content)\n",
        "\n",
        "        # Load and preprocess the image for prediction\n",
        "        img = Image.open(image_path)\n",
        "        img = img.resize((128, 128))\n",
        "        img_array = tf.keras.preprocessing.image.img_to_array(img)\n",
        "        img_array = tf.expand_dims(img_array, 0)\n",
        "\n",
        "\n",
        "        y_pred = model.predict(img_array)\n",
        "        predicted_class = np.argmax(y_pred)\n",
        "        accuracy = y_pred[0][predicted_class]\n",
        "\n",
        "        class_names = train_ds.class_names\n",
        "\n",
        "        result = f\"Loại bệnh: {class_names[predicted_class]} (Độ chắc chắn: {100 * accuracy:.2f}%)\"\n",
        "        self.result_label.value = result\n",
        "\n",
        "        # Remove the temporary image file\n",
        "        os.remove(image_path)\n",
        "\n",
        "    def clear_result(self, _):\n",
        "        clear_output(wait=True)\n",
        "        self.btn_upload.value.clear()\n",
        "        self.result_label.value = \"\"\n",
        "        display(self.label, self.btn_upload, self.image_output, self.result_label, self.btn_clear)\n",
        "\n",
        "# Create an app and display it on Colab\n",
        "app = PlantDiseaseDetectorApp()\n"
      ],
      "metadata": {
        "id": "HIHGWcIz-4b1"
      },
      "execution_count": null,
      "outputs": []
    }
  ],
  "metadata": {
    "accelerator": "GPU",
    "colab": {
      "provenance": [],
      "include_colab_link": true
    },
    "gpuClass": "standard",
    "kernelspec": {
      "display_name": "Python 3",
      "name": "python3"
    },
    "language_info": {
      "name": "python"
    }
  },
  "nbformat": 4,
  "nbformat_minor": 0
}